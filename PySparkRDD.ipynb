{
  "nbformat": 4,
  "nbformat_minor": 0,
  "metadata": {
    "colab": {
      "provenance": [],
      "authorship_tag": "ABX9TyNFn5jOHjQNOC6pmx8mYeZ1",
      "include_colab_link": true
    },
    "kernelspec": {
      "name": "python3",
      "display_name": "Python 3"
    },
    "language_info": {
      "name": "python"
    }
  },
  "cells": [
    {
      "cell_type": "markdown",
      "metadata": {
        "id": "view-in-github",
        "colab_type": "text"
      },
      "source": [
        "<a href=\"https://colab.research.google.com/github/Dobenkss/PySpark_RDD/blob/main/PySparkRDD.ipynb\" target=\"_parent\"><img src=\"https://colab.research.google.com/assets/colab-badge.svg\" alt=\"Open In Colab\"/></a>"
      ]
    },
    {
      "cell_type": "markdown",
      "source": [
        "NAMA  : ABHIPRAYA RASENDRIYA ATMA ARDANY <br>\n",
        "NIM   : 24.21.1587 <br>\n",
        "KELAS : IF08"
      ],
      "metadata": {
        "id": "Fxl58FTGrI-Y"
      }
    },
    {
      "cell_type": "code",
      "execution_count": null,
      "metadata": {
        "colab": {
          "base_uri": "https://localhost:8080/"
        },
        "id": "8Pl-8G-ujSeb",
        "outputId": "d0a6c371-e545-4aea-9e10-55797f7d5c2b"
      },
      "outputs": [
        {
          "output_type": "stream",
          "name": "stdout",
          "text": [
            "Collecting pyspark\n",
            "  Downloading pyspark-3.5.3.tar.gz (317.3 MB)\n",
            "\u001b[2K     \u001b[90m━━━━━━━━━━━━━━━━━━━━━━━━━━━━━━━━━━━━━━━━\u001b[0m \u001b[32m317.3/317.3 MB\u001b[0m \u001b[31m4.9 MB/s\u001b[0m eta \u001b[36m0:00:00\u001b[0m\n",
            "\u001b[?25h  Preparing metadata (setup.py) ... \u001b[?25l\u001b[?25hdone\n",
            "Requirement already satisfied: py4j==0.10.9.7 in /usr/local/lib/python3.10/dist-packages (from pyspark) (0.10.9.7)\n",
            "Building wheels for collected packages: pyspark\n",
            "  Building wheel for pyspark (setup.py) ... \u001b[?25l\u001b[?25hdone\n",
            "  Created wheel for pyspark: filename=pyspark-3.5.3-py2.py3-none-any.whl size=317840625 sha256=04a7f43237e96815ee0a191542651e12ef2788e4d2b1b74b337001b1dd17d80c\n",
            "  Stored in directory: /root/.cache/pip/wheels/1b/3a/92/28b93e2fbfdbb07509ca4d6f50c5e407f48dce4ddbda69a4ab\n",
            "Successfully built pyspark\n",
            "Installing collected packages: pyspark\n",
            "Successfully installed pyspark-3.5.3\n"
          ]
        }
      ],
      "source": [
        "!pip install pyspark"
      ]
    },
    {
      "cell_type": "code",
      "source": [
        "from pyspark.sql import SparkSession\n",
        "spark = SparkSession.builder.getOrCreate()\n",
        "sc = spark.sparkContext"
      ],
      "metadata": {
        "id": "N8zygImKsKJA"
      },
      "execution_count": null,
      "outputs": []
    },
    {
      "cell_type": "code",
      "source": [
        "RDD = sc.parallelize([\"Spark\", \"is\", \"a\", \"framework\", \"for\", \"Big Data processing\"])\n",
        "\n",
        "print(\"The type of RDD is\", type(RDD))"
      ],
      "metadata": {
        "colab": {
          "base_uri": "https://localhost:8080/"
        },
        "id": "CtlGKaO3squs",
        "outputId": "1e1138f0-3ee0-40ca-9198-3e37a41e4250"
      },
      "execution_count": null,
      "outputs": [
        {
          "output_type": "stream",
          "name": "stdout",
          "text": [
            "The type of RDD is <class 'pyspark.rdd.RDD'>\n"
          ]
        }
      ]
    },
    {
      "cell_type": "code",
      "source": [
        "file_path = 'flights_small.csv'\n",
        "\n",
        "print(\"The file_path is\", file_path)\n",
        "\n",
        "fileRDD = sc.textFile(file_path)\n",
        "\n",
        "print(\"The file type of fileRDD is\", type(fileRDD))"
      ],
      "metadata": {
        "colab": {
          "base_uri": "https://localhost:8080/"
        },
        "id": "A022SmUBsxsf",
        "outputId": "fb41c36c-9b3f-4b55-d2e4-dc213b38064e"
      },
      "execution_count": null,
      "outputs": [
        {
          "output_type": "stream",
          "name": "stdout",
          "text": [
            "The file_path is flights_small.csv\n",
            "The file type of fileRDD is <class 'pyspark.rdd.RDD'>\n"
          ]
        }
      ]
    },
    {
      "cell_type": "code",
      "source": [
        "filterVX = fileRDD.filter(lambda line: 'VX' in line)\n",
        "filterSEA = fileRDD.filter(lambda line: 'SEA' in line)\n",
        "filterN846VA = fileRDD.filter(lambda line: 'N846VA' in line)\n",
        "\n",
        "print(\"keyword VX in file : \", filterVX.count() ,\"\\n\")\n",
        "for index, line in enumerate(filterVX.take(2), start=1):\n",
        "  print(f\"{index}. {line}\")\n",
        "\n",
        "print(\"\\nkeyword SEA in file : \", filterSEA.count() ,\"\\n\")\n",
        "for index, line in enumerate(filterSEA.take(8), start=1):\n",
        "  print(f\"{index}. {line}\")\n",
        "\n",
        "print(\"\\nkeyword N846VA in file : \", filterN846VA.count() ,\"\\n\")\n",
        "for index, line in enumerate(filterN846VA.take(10), start=1):\n",
        "  print(f\"{index}. {line}\")\n"
      ],
      "metadata": {
        "colab": {
          "base_uri": "https://localhost:8080/"
        },
        "id": "Y3KjZWdztU9V",
        "outputId": "59b91d02-e2cf-4475-a077-91c2a9bc6127"
      },
      "execution_count": null,
      "outputs": [
        {
          "output_type": "stream",
          "name": "stdout",
          "text": [
            "keyword VX in file :  186 \n",
            "\n",
            "1. 2014,12,8,658,-7,935,-5,VX,N846VA,1780,SEA,LAX,132,954,6,58\n",
            "2. 2014,3,9,1443,-2,1652,2,VX,N847VA,755,SEA,SFO,111,679,14,43\n",
            "\n",
            "keyword SEA in file :  6898 \n",
            "\n",
            "1. 2014,12,8,658,-7,935,-5,VX,N846VA,1780,SEA,LAX,132,954,6,58\n",
            "2. 2014,1,22,1040,5,1505,5,AS,N559AS,851,SEA,HNL,360,2677,10,40\n",
            "3. 2014,3,9,1443,-2,1652,2,VX,N847VA,755,SEA,SFO,111,679,14,43\n",
            "4. 2014,3,9,754,-1,1015,1,AS,N612AS,522,SEA,BUR,127,937,7,54\n",
            "5. 2014,5,12,1655,-5,1842,-18,VX,N361VA,755,SEA,SFO,98,679,16,55\n",
            "6. 2014,4,19,1236,-4,1508,-7,AS,N309AS,490,SEA,SAN,135,1050,12,36\n",
            "7. 2014,11,19,1812,-3,2352,-4,AS,N564AS,26,SEA,ORD,198,1721,18,12\n",
            "8. 2014,11,8,1653,-2,1924,-1,AS,N323AS,448,SEA,LAX,130,954,16,53\n",
            "\n",
            "keyword N846VA in file :  6 \n",
            "\n",
            "1. 2014,12,8,658,-7,935,-5,VX,N846VA,1780,SEA,LAX,132,954,6,58\n",
            "2. 2014,3,12,648,-12,843,-2,VX,N846VA,84,PDX,SFO,92,550,6,48\n",
            "3. 2014,3,1,1525,115,1720,105,VX,N846VA,755,SEA,SFO,96,679,15,25\n",
            "4. 2014,4,8,1057,2,1334,4,VX,N846VA,784,SEA,LAX,137,954,10,57\n",
            "5. 2014,12,17,1846,86,2045,80,VX,N846VA,755,SEA,SFO,98,679,18,46\n",
            "6. 2014,2,28,700,0,854,14,VX,N846VA,84,PDX,SFO,88,550,7,0\n"
          ]
        }
      ]
    }
  ]
}